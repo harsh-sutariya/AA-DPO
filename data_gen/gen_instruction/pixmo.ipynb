{
 "cells": [
  {
   "cell_type": "code",
   "execution_count": 1,
   "id": "23aa67cc-ea89-444e-98b2-210b57715418",
   "metadata": {},
   "outputs": [],
   "source": [
    "import requests\n",
    "import json\n",
    "from io import BytesIO\n",
    "from PIL import Image\n",
    "import random\n",
    "import uuid\n",
    "from hashlib import sha256\n",
    "from tqdm import tqdm\n",
    "import time\n",
    "import os\n",
    "\n",
    "from datasets import load_dataset\n",
    "\n",
    "random.seed( 42 )"
   ]
  },
  {
   "cell_type": "code",
   "execution_count": 20,
   "id": "f4fea23e-d7f6-4bb6-875f-ba25071faf93",
   "metadata": {},
   "outputs": [],
   "source": [
    "IMAGE_PER_CLASS = 500\n",
    "\n",
    "OUTPUT_IMAGE_PATH = \"./test_images/\"\n",
    "IMAGE_DATASET_PATH = \"/scratch/spp9399/mia/pixmo/molmo/\""
   ]
  },
  {
   "cell_type": "markdown",
   "id": "edbe81a8-ad06-479e-bded-1367e7e88695",
   "metadata": {},
   "source": [
    "## HF Dataset"
   ]
  },
  {
   "cell_type": "code",
   "execution_count": 4,
   "id": "cb23898a-daed-4dcb-a5ab-f29781eb7bc4",
   "metadata": {},
   "outputs": [
    {
     "data": {
      "application/vnd.jupyter.widget-view+json": {
       "model_id": "5eba63cda3b64dfd94c7d96cc8681a4d",
       "version_major": 2,
       "version_minor": 0
      },
      "text/plain": [
       "Resolving data files:   0%|          | 0/33 [00:00<?, ?it/s]"
      ]
     },
     "metadata": {},
     "output_type": "display_data"
    },
    {
     "data": {
      "application/vnd.jupyter.widget-view+json": {
       "model_id": "d765e95dcdc24b1088b9fcf77058cd23",
       "version_major": 2,
       "version_minor": 0
      },
      "text/plain": [
       "Resolving data files:   0%|          | 0/33 [00:00<?, ?it/s]"
      ]
     },
     "metadata": {},
     "output_type": "display_data"
    }
   ],
   "source": [
    "dataset = load_dataset(\"/scratch/spp9399/mia/pixmo/molmo/data/molmo/torch_datasets/pixmo_datasets/ask-model-anything\", split='train')"
   ]
  },
  {
   "cell_type": "code",
   "execution_count": 5,
   "id": "c86c393f-2a2d-4b5a-b2a1-b517c547ae64",
   "metadata": {},
   "outputs": [
    {
     "data": {
      "text/plain": [
       "Dataset({\n",
       "    features: ['image_url', 'image', 'question', 'answer'],\n",
       "    num_rows: 56248\n",
       "})"
      ]
     },
     "execution_count": 5,
     "metadata": {},
     "output_type": "execute_result"
    }
   ],
   "source": [
    "dataset"
   ]
  },
  {
   "cell_type": "code",
   "execution_count": 6,
   "id": "9c1732d4-19d0-4cee-913d-e46006b4624e",
   "metadata": {},
   "outputs": [
    {
     "data": {
      "text/plain": [
       "{'image_url': 'https://cdn.wallpapersafari.com/40/8/AYhcIr.jpg',\n",
       " 'image': './data/molmo/torch_datasets/pixmo_images/6d83e897c03fa5c199fd03b537fd4894118915a73b3624229b74b4f8dd94074f',\n",
       " 'question': ['Can you challenge this bird to a wrestling match in the style of macho man Randy savage?'],\n",
       " 'answer': [\"Ooh yeah, dig it! Listen up, you ebony-feathered menace! The Macho Man Randy Savage is here to challenge you to the ultimate showdown, you Common Raven perched on that branch!\\n\\nYou think you're the cream of the crop with those glossy black feathers and beady eyes? Well, let me tell you somethin', bird brain! The Macho Man's gonna soar higher than you ever could, dropping elbow after elbow from the heavens!\\n\\nIn the squared circle, I'm gonna pluck your pride and ground your flight! You may have a sharp beak, but I've got biceps that'll make your wings look like toothpicks! \\n\\nThe Macho Man's gonna teach you the meaning of sky-high pain! You'll be squawking my name when I unleash my signature flying elbow drop!\\n\\nBrace yourself, raven! The tower of power is too sweet to be sour! Oooh yeah!\"]}"
      ]
     },
     "execution_count": 6,
     "metadata": {},
     "output_type": "execute_result"
    }
   ],
   "source": [
    "dataset[0]"
   ]
  },
  {
   "cell_type": "code",
   "execution_count": 7,
   "id": "d5c8f5ad-33f7-450c-8fad-a832fd9facf5",
   "metadata": {},
   "outputs": [],
   "source": [
    "# Shuffle the data\n",
    "dataset = dataset.shuffle(seed=42)\n",
    "\n",
    "# Create 500 examples for sequence, collage and pic-in-pic\n",
    "# Save the sha256 for each selected images!"
   ]
  },
  {
   "cell_type": "code",
   "execution_count": 9,
   "id": "2ea5a85d-2ec2-419c-850d-42fa7bd6b893",
   "metadata": {
    "scrolled": true
   },
   "outputs": [
    {
     "data": {
      "text/plain": [
       "{'image_url': 'http://www.hambledonsurrey.co.uk/wp-content/uploads/2020/05/IMG_0903-1536x1152.jpeg',\n",
       " 'image': './data/molmo/torch_datasets/pixmo_images/cffee398f971f6d0c19652826b27bcb21d0b784fda150bf79c65a6b77c9a1ff0',\n",
       " 'question': ['Where is the camera in this scene?',\n",
       "  'When was this photograph taken?',\n",
       "  'Where is the security camera?',\n",
       "  'What is the name of the company that supplied the newspapers?'],\n",
       " 'answer': [\"The camera in this scene is not directly visible. However, we can infer its approximate position based on the elements in the image. The newspapers are laid out on a table, and we can see a window with a CCTV sticker on it. Given this view, it's likely that the camera is positioned slightly above and in front of the table, capturing the newspapers and the window behind them. This suggests the camera is probably handheld or on a tripod, positioned to take in the full scene of the newspaper display and its surroundings.\",\n",
       "  'While an exact date isn\\'t visible, we can infer that this photograph was taken around Easter time in 2020. Several clues point to this:\\n\\n1. The newspapers mention Boris Johnson\\'s fight against COVID-19, which occurred in April 2020.\\n2. There are references to Easter, such as \"The Big Easter Quiz\" and \"Easter Eggs hidden in this paper.\"\\n3. The Observer headline mentions a virus death toll nearing 10,000, which aligns with UK statistics from early April 2020.\\n4. There\\'s discussion of lockdowns and NHS struggles, consistent with the early stages of the COVID-19 pandemic.\\n\\nGiven these factors, I\\'d estimate this photograph was taken in early to mid-April 2020, likely just before or during the Easter weekend of that year.',\n",
       "  'There isn\\'t a visible security camera in the image itself. However, there\\'s a sticker on the window that says \"CCTV\" with a triangle symbol. This typically indicates that the area is under video surveillance. The security camera is likely mounted somewhere nearby, possibly on the building or in a less noticeable location, to monitor the area where these newspapers are displayed.',\n",
       "  'The company that supplied the newspapers appears to be Menzies. This can be seen on the barcoded delivery markers placed on top of the left stack of newspapers. These markers typically indicate customer numbers and the supplier, and in this case, they display the name \"Menzies,\" which is likely the newspaper distribution company responsible for supplying these newspapers.']}"
      ]
     },
     "execution_count": 9,
     "metadata": {},
     "output_type": "execute_result"
    }
   ],
   "source": [
    "dataset[0]"
   ]
  },
  {
   "cell_type": "markdown",
   "id": "ba5447bb-2c0a-48e0-99ad-5a98f49645b5",
   "metadata": {},
   "source": [
    "## Sequence\n",
    "In sequence, split the data equally between (2, 3, 4, 5) number of images"
   ]
  },
  {
   "cell_type": "code",
   "execution_count": 21,
   "id": "701fb631-afd5-4f0d-98f2-33fa21d2242a",
   "metadata": {},
   "outputs": [],
   "source": [
    "def get_images( x ):\n",
    "    \"\"\"\n",
    "        Given indices, choose randomly x until |set( sha )| != |images| \n",
    "    \"\"\"\n",
    "    images_index = random.sample(range(len(dataset)), x)\n",
    "    images = [dataset[i] for i in images_index]\n",
    "    \n",
    "    return images"
   ]
  },
  {
   "cell_type": "code",
   "execution_count": 26,
   "id": "c826f4fa-2a05-4021-a163-e4a33494464f",
   "metadata": {},
   "outputs": [],
   "source": [
    "def sequence_class():\n",
    "    sequences = [2, 3, 4, 5]\n",
    "\n",
    "    images_per_sequence = IMAGE_PER_CLASS // len(sequences)\n",
    "\n",
    "    res = []\n",
    "    \n",
    "    for seq in sequences:\n",
    "        # Randomly samples images based on seq, maintain used_index. Check for sha to make sure images are not same\n",
    "        for _ in tqdm(range( images_per_sequence ), desc=\"Sequence \" + str(seq)):\n",
    "            images = get_images( seq )\n",
    "            \n",
    "            # All images are dissimilar (similar means that images are same but qa pairs are different)\n",
    "            data = {}\n",
    "            \n",
    "            # Randomly choose an image index whose qa pair will be used!\n",
    "            image_index = random.choice( range(len(images)) )\n",
    "            image_length = len( images )\n",
    "    \n",
    "            data['id'] = uuid.uuid4().hex\n",
    "            data['image'] = [\n",
    "                \"test_images/\" + data['id'] + \".png\"\n",
    "                for i in images\n",
    "            ]\n",
    "    \n",
    "            for i in images:\n",
    "                img = Image.open(\n",
    "                    IMAGE_DATASET_PATH + i[\"image\"]\n",
    "                )\n",
    "                if img.mode == \"CMYK\":\n",
    "                    img = img.convert(\"RGB\")  # PNGs can't be saved in CMYK\n",
    "\n",
    "                img.save( OUTPUT_IMAGE_PATH + data['id'] + \".png\", \"PNG\" )\n",
    "    \n",
    "            image_index = image_index\n",
    "    \n",
    "            if image_length == 2:\n",
    "                data['prompt'] = 'Image1:<image>\\nImage2:<image>\\n' + f'In Image{image_index + 1}, ' \n",
    "            elif image_length == 3:\n",
    "                data['prompt'] = 'Image1:<image>\\nImage2:<image>\\nImage3:<image>\\n' + f'In Image{image_index + 1}, '\n",
    "            elif image_length == 4:\n",
    "                data['prompt'] = 'Image1:<image>\\nImage2:<image>\\nImage3:<image>\\nImage4:<image>\\n'+ f'In Image{image_index + 1}, '\n",
    "            elif image_length == 5:\n",
    "                data['prompt'] = 'Image1:<image>\\nImage2:<image>\\nImage3:<image>\\nImage4:<image>\\nImage5:<image>\\n' + f'In Image{image_index + 1}, '\n",
    "            \n",
    "            ques_index = random.choice( range(len(images[image_index]['question'])) ) # If there are multiple questions, then select one\n",
    "            data['prompt'] += images[image_index][\"question\"][ques_index]\n",
    "            data['answer'] = images[image_index][\"answer\"][ques_index]\n",
    "\n",
    "            data['image_url'] = \" \".join( [ i['image_url'] for i in images ] )\n",
    "            \n",
    "            res.append( data )\n",
    "    return res"
   ]
  },
  {
   "cell_type": "code",
   "execution_count": 27,
   "id": "74734cb5-da3b-430c-87ac-c33a1e0d358b",
   "metadata": {},
   "outputs": [
    {
     "name": "stderr",
     "output_type": "stream",
     "text": [
      "Sequence 2: 100%|██████████| 125/125 [01:33<00:00,  1.34it/s]\n",
      "Sequence 3: 100%|██████████| 125/125 [01:42<00:00,  1.22it/s]\n",
      "Sequence 4: 100%|██████████| 125/125 [02:32<00:00,  1.22s/it]\n",
      "Sequence 5: 100%|██████████| 125/125 [02:41<00:00,  1.29s/it]\n"
     ]
    }
   ],
   "source": [
    "sequence_data = sequence_class()"
   ]
  },
  {
   "cell_type": "code",
   "execution_count": 29,
   "id": "8153455f-4ed4-4c7d-82bd-d1919b1bbb58",
   "metadata": {},
   "outputs": [],
   "source": [
    "with open(\"./sequence_test_images.json\", \"w\") as f:\n",
    "    json.dump(sequence_data, f, indent=4)  # indent=4 for pretty formatting"
   ]
  },
  {
   "cell_type": "markdown",
   "id": "acf73e2e-7b9e-44a1-9726-ca14ad1e0eb5",
   "metadata": {},
   "source": [
    "## Collage "
   ]
  },
  {
   "cell_type": "code",
   "execution_count": null,
   "id": "8b7a764a-2689-4d83-b109-aa911c7a2016",
   "metadata": {},
   "outputs": [],
   "source": [
    "def get_images( x ):\n",
    "    \"\"\"\n",
    "        Given indices, choose randomly x until |set( sha )| != |images| \n",
    "    \"\"\"\n",
    "    images_index = random.sample(range(len(dataset)), x)\n",
    "    images = [dataset[i] for i in images_index]\n",
    "    \n",
    "    return images\n",
    "\n",
    "def sequence_class():\n",
    "    sequences = [2, 3, 4, 5]\n",
    "\n",
    "    images_per_sequence = IMAGE_PER_CLASS // len(sequences)\n",
    "\n",
    "    res = []\n",
    "    \n",
    "    for seq in sequences:\n",
    "        # Randomly samples images based on seq, maintain used_index. Check for sha to make sure images are not same\n",
    "        for _ in tqdm(range( images_per_sequence ), desc=\"Sequence \" + str(seq)):\n",
    "            images = get_images( seq )\n",
    "            \n",
    "            # All images are dissimilar (similar means that images are same but qa pairs are different)\n",
    "            data = {}\n",
    "            \n",
    "            # Randomly choose an image index whose qa pair will be used!\n",
    "            image_index = random.choice( range(len(images)) )\n",
    "            image_length = len( images )\n",
    "    \n",
    "            data['id'] = uuid.uuid4().hex\n",
    "            data['image'] = [\n",
    "                \"test_images/\" + data['id'] + \".png\"\n",
    "                for i in images\n",
    "            ]\n",
    "    \n",
    "            for i in images:\n",
    "                img = Image.open(\n",
    "                    IMAGE_DATASET_PATH + i[\"image\"]\n",
    "                )\n",
    "                if img.mode == \"CMYK\":\n",
    "                    img = img.convert(\"RGB\")  # PNGs can't be saved in CMYK\n",
    "\n",
    "                img.save( OUTPUT_IMAGE_PATH + data['id'] + \".png\", \"PNG\" )\n",
    "    \n",
    "            image_index = image_index\n",
    "    \n",
    "            if image_length == 2:\n",
    "                data['prompt'] = 'Image1:<image>\\nImage2:<image>\\n' + f'In Image{image_index + 1}, ' \n",
    "            elif image_length == 3:\n",
    "                data['prompt'] = 'Image1:<image>\\nImage2:<image>\\nImage3:<image>\\n' + f'In Image{image_index + 1}, '\n",
    "            elif image_length == 4:\n",
    "                data['prompt'] = 'Image1:<image>\\nImage2:<image>\\nImage3:<image>\\nImage4:<image>\\n'+ f'In Image{image_index + 1}, '\n",
    "            elif image_length == 5:\n",
    "                data['prompt'] = 'Image1:<image>\\nImage2:<image>\\nImage3:<image>\\nImage4:<image>\\nImage5:<image>\\n' + f'In Image{image_index + 1}, '\n",
    "            \n",
    "            ques_index = random.choice( range(len(images[image_index]['question'])) ) # If there are multiple questions, then select one\n",
    "            data['prompt'] += images[image_index][\"question\"][ques_index]\n",
    "            data['answer'] = images[image_index][\"answer\"][ques_index]\n",
    "\n",
    "            data['image_url'] = \" \".join( [ i['image_url'] for i in images ] )\n",
    "            \n",
    "            res.append( data )\n",
    "    return res"
   ]
  },
  {
   "cell_type": "markdown",
   "id": "45c9773f-e231-486e-87ac-cd9e4f8e243b",
   "metadata": {
    "jp-MarkdownHeadingCollapsed": true
   },
   "source": [
    "## Pic-in-Pic"
   ]
  },
  {
   "cell_type": "code",
   "execution_count": null,
   "id": "046b8a82-122d-4ef1-952a-89e601548c4d",
   "metadata": {},
   "outputs": [],
   "source": []
  }
 ],
 "metadata": {
  "kernelspec": {
   "display_name": "mia_env",
   "language": "python",
   "name": "mia_env"
  },
  "language_info": {
   "codemirror_mode": {
    "name": "ipython",
    "version": 3
   },
   "file_extension": ".py",
   "mimetype": "text/x-python",
   "name": "python",
   "nbconvert_exporter": "python",
   "pygments_lexer": "ipython3",
   "version": "3.13.2"
  }
 },
 "nbformat": 4,
 "nbformat_minor": 5
}
